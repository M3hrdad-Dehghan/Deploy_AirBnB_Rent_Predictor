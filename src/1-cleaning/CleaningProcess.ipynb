{
 "cells": [
  {
   "cell_type": "markdown",
   "metadata": {},
   "source": [
    "### **Libraries**"
   ]
  },
  {
   "cell_type": "code",
   "execution_count": null,
   "metadata": {},
   "outputs": [],
   "source": [
    "import pandas as pd\n",
    "import numpy as np"
   ]
  },
  {
   "cell_type": "markdown",
   "metadata": {},
   "source": [
    "### **Load Dataset**"
   ]
  },
  {
   "cell_type": "markdown",
   "metadata": {},
   "source": [
    "Data is stored as an Excel file. So, we use `Pandas` to load data."
   ]
  },
  {
   "cell_type": "code",
   "execution_count": 4,
   "metadata": {},
   "outputs": [],
   "source": [
    "def load_data(file_path):\n",
    "    df = pd.read_csv(file_path)\n",
    "    return df"
   ]
  },
  {
   "cell_type": "code",
   "execution_count": 5,
   "metadata": {},
   "outputs": [
    {
     "data": {
      "application/vnd.microsoft.datawrangler.viewer.v0+json": {
       "columns": [
        {
         "name": "index",
         "rawType": "int64",
         "type": "integer"
        },
        {
         "name": "id",
         "rawType": "int64",
         "type": "integer"
        },
        {
         "name": "name",
         "rawType": "object",
         "type": "string"
        },
        {
         "name": "host_id",
         "rawType": "int64",
         "type": "integer"
        },
        {
         "name": "host_name",
         "rawType": "object",
         "type": "string"
        },
        {
         "name": "neighbourhood_group",
         "rawType": "object",
         "type": "string"
        },
        {
         "name": "neighbourhood",
         "rawType": "object",
         "type": "string"
        },
        {
         "name": "latitude",
         "rawType": "float64",
         "type": "float"
        },
        {
         "name": "longitude",
         "rawType": "float64",
         "type": "float"
        },
        {
         "name": "room_type",
         "rawType": "object",
         "type": "string"
        },
        {
         "name": "price",
         "rawType": "int64",
         "type": "integer"
        },
        {
         "name": "minimum_nights",
         "rawType": "int64",
         "type": "integer"
        },
        {
         "name": "number_of_reviews",
         "rawType": "int64",
         "type": "integer"
        },
        {
         "name": "last_review",
         "rawType": "object",
         "type": "string"
        },
        {
         "name": "reviews_per_month",
         "rawType": "float64",
         "type": "float"
        },
        {
         "name": "calculated_host_listings_count",
         "rawType": "int64",
         "type": "integer"
        },
        {
         "name": "availability_365",
         "rawType": "int64",
         "type": "integer"
        }
       ],
       "conversionMethod": "pd.DataFrame",
       "ref": "5fa6727f-7b8f-41f4-9129-19c031026e42",
       "rows": [
        [
         "0",
         "1",
         "Clinton Hill Apartment Single Bedroom ! Pratt ~~",
         "30610258",
         "Santiago",
         "Brooklyn",
         "Clinton Hill",
         "40.69591",
         "-73.96284",
         "Private room",
         "58",
         "2",
         "1",
         "9/23/2018",
         "0.1",
         "1",
         "0"
        ],
        [
         "1",
         "2",
         "Andy Phillips",
         "6180052",
         "Andrian",
         "Brooklyn",
         "Fort Greene",
         "40.68769",
         "-73.9749",
         "Private room",
         "99",
         "5",
         "4",
         "9/29/2017",
         "0.17",
         "1",
         "250"
        ],
        [
         "2",
         "3",
         "Stylish, Comfortable, and Affordable in Brooklyn",
         "5957027",
         "Zachary",
         "Brooklyn",
         "Crown Heights",
         "40.67667",
         "-73.9175",
         "Entire home/apt",
         "180",
         "2",
         "126",
         "6/14/2019",
         "3.74",
         "1",
         "74"
        ],
        [
         "3",
         "4",
         "15 min train ride to Times Sq and  US OPEN",
         "101602599",
         "M",
         "Queens",
         "Woodside",
         "40.7434",
         "-73.90588",
         "Entire home/apt",
         "50",
         "1",
         "95",
         "6/24/2019",
         "5.63",
         "2",
         "0"
        ],
        [
         "4",
         "5",
         "Sunny 2 bdrm Park Slope Apt w/ Yard 3min to Subway",
         "106168581",
         "Jason",
         "Brooklyn",
         "South Slope",
         "40.666",
         "-73.9902",
         "Entire home/apt",
         "210",
         "4",
         "88",
         "7/4/2019",
         "4.41",
         "1",
         "20"
        ]
       ],
       "shape": {
        "columns": 16,
        "rows": 5
       }
      },
      "text/html": [
       "<div>\n",
       "<style scoped>\n",
       "    .dataframe tbody tr th:only-of-type {\n",
       "        vertical-align: middle;\n",
       "    }\n",
       "\n",
       "    .dataframe tbody tr th {\n",
       "        vertical-align: top;\n",
       "    }\n",
       "\n",
       "    .dataframe thead th {\n",
       "        text-align: right;\n",
       "    }\n",
       "</style>\n",
       "<table border=\"1\" class=\"dataframe\">\n",
       "  <thead>\n",
       "    <tr style=\"text-align: right;\">\n",
       "      <th></th>\n",
       "      <th>id</th>\n",
       "      <th>name</th>\n",
       "      <th>host_id</th>\n",
       "      <th>host_name</th>\n",
       "      <th>neighbourhood_group</th>\n",
       "      <th>neighbourhood</th>\n",
       "      <th>latitude</th>\n",
       "      <th>longitude</th>\n",
       "      <th>room_type</th>\n",
       "      <th>price</th>\n",
       "      <th>minimum_nights</th>\n",
       "      <th>number_of_reviews</th>\n",
       "      <th>last_review</th>\n",
       "      <th>reviews_per_month</th>\n",
       "      <th>calculated_host_listings_count</th>\n",
       "      <th>availability_365</th>\n",
       "    </tr>\n",
       "  </thead>\n",
       "  <tbody>\n",
       "    <tr>\n",
       "      <th>0</th>\n",
       "      <td>1</td>\n",
       "      <td>Clinton Hill Apartment Single Bedroom ! Pratt ~~</td>\n",
       "      <td>30610258</td>\n",
       "      <td>Santiago</td>\n",
       "      <td>Brooklyn</td>\n",
       "      <td>Clinton Hill</td>\n",
       "      <td>40.69591</td>\n",
       "      <td>-73.96284</td>\n",
       "      <td>Private room</td>\n",
       "      <td>58</td>\n",
       "      <td>2</td>\n",
       "      <td>1</td>\n",
       "      <td>9/23/2018</td>\n",
       "      <td>0.10</td>\n",
       "      <td>1</td>\n",
       "      <td>0</td>\n",
       "    </tr>\n",
       "    <tr>\n",
       "      <th>1</th>\n",
       "      <td>2</td>\n",
       "      <td>Andy Phillips</td>\n",
       "      <td>6180052</td>\n",
       "      <td>Andrian</td>\n",
       "      <td>Brooklyn</td>\n",
       "      <td>Fort Greene</td>\n",
       "      <td>40.68769</td>\n",
       "      <td>-73.97490</td>\n",
       "      <td>Private room</td>\n",
       "      <td>99</td>\n",
       "      <td>5</td>\n",
       "      <td>4</td>\n",
       "      <td>9/29/2017</td>\n",
       "      <td>0.17</td>\n",
       "      <td>1</td>\n",
       "      <td>250</td>\n",
       "    </tr>\n",
       "    <tr>\n",
       "      <th>2</th>\n",
       "      <td>3</td>\n",
       "      <td>Stylish, Comfortable, and Affordable in Brooklyn</td>\n",
       "      <td>5957027</td>\n",
       "      <td>Zachary</td>\n",
       "      <td>Brooklyn</td>\n",
       "      <td>Crown Heights</td>\n",
       "      <td>40.67667</td>\n",
       "      <td>-73.91750</td>\n",
       "      <td>Entire home/apt</td>\n",
       "      <td>180</td>\n",
       "      <td>2</td>\n",
       "      <td>126</td>\n",
       "      <td>6/14/2019</td>\n",
       "      <td>3.74</td>\n",
       "      <td>1</td>\n",
       "      <td>74</td>\n",
       "    </tr>\n",
       "    <tr>\n",
       "      <th>3</th>\n",
       "      <td>4</td>\n",
       "      <td>15 min train ride to Times Sq and  US OPEN</td>\n",
       "      <td>101602599</td>\n",
       "      <td>M</td>\n",
       "      <td>Queens</td>\n",
       "      <td>Woodside</td>\n",
       "      <td>40.74340</td>\n",
       "      <td>-73.90588</td>\n",
       "      <td>Entire home/apt</td>\n",
       "      <td>50</td>\n",
       "      <td>1</td>\n",
       "      <td>95</td>\n",
       "      <td>6/24/2019</td>\n",
       "      <td>5.63</td>\n",
       "      <td>2</td>\n",
       "      <td>0</td>\n",
       "    </tr>\n",
       "    <tr>\n",
       "      <th>4</th>\n",
       "      <td>5</td>\n",
       "      <td>Sunny 2 bdrm Park Slope Apt w/ Yard 3min to Su...</td>\n",
       "      <td>106168581</td>\n",
       "      <td>Jason</td>\n",
       "      <td>Brooklyn</td>\n",
       "      <td>South Slope</td>\n",
       "      <td>40.66600</td>\n",
       "      <td>-73.99020</td>\n",
       "      <td>Entire home/apt</td>\n",
       "      <td>210</td>\n",
       "      <td>4</td>\n",
       "      <td>88</td>\n",
       "      <td>7/4/2019</td>\n",
       "      <td>4.41</td>\n",
       "      <td>1</td>\n",
       "      <td>20</td>\n",
       "    </tr>\n",
       "  </tbody>\n",
       "</table>\n",
       "</div>"
      ],
      "text/plain": [
       "   id                                               name    host_id host_name  \\\n",
       "0   1   Clinton Hill Apartment Single Bedroom ! Pratt ~~   30610258  Santiago   \n",
       "1   2                                      Andy Phillips    6180052   Andrian   \n",
       "2   3   Stylish, Comfortable, and Affordable in Brooklyn    5957027   Zachary   \n",
       "3   4         15 min train ride to Times Sq and  US OPEN  101602599         M   \n",
       "4   5  Sunny 2 bdrm Park Slope Apt w/ Yard 3min to Su...  106168581     Jason   \n",
       "\n",
       "  neighbourhood_group  neighbourhood  latitude  longitude        room_type  \\\n",
       "0            Brooklyn   Clinton Hill  40.69591  -73.96284     Private room   \n",
       "1            Brooklyn    Fort Greene  40.68769  -73.97490     Private room   \n",
       "2            Brooklyn  Crown Heights  40.67667  -73.91750  Entire home/apt   \n",
       "3              Queens       Woodside  40.74340  -73.90588  Entire home/apt   \n",
       "4            Brooklyn    South Slope  40.66600  -73.99020  Entire home/apt   \n",
       "\n",
       "   price  minimum_nights  number_of_reviews last_review  reviews_per_month  \\\n",
       "0     58               2                  1   9/23/2018               0.10   \n",
       "1     99               5                  4   9/29/2017               0.17   \n",
       "2    180               2                126   6/14/2019               3.74   \n",
       "3     50               1                 95   6/24/2019               5.63   \n",
       "4    210               4                 88    7/4/2019               4.41   \n",
       "\n",
       "   calculated_host_listings_count  availability_365  \n",
       "0                               1                 0  \n",
       "1                               1               250  \n",
       "2                               1                74  \n",
       "3                               2                 0  \n",
       "4                               1                20  "
      ]
     },
     "execution_count": 5,
     "metadata": {},
     "output_type": "execute_result"
    }
   ],
   "source": [
    "file_path = '../../data/train.csv'\n",
    "df = load_data(file_path)\n",
    "df.head()"
   ]
  },
  {
   "cell_type": "markdown",
   "metadata": {},
   "source": [
    "### **Remove Extra Columns**"
   ]
  },
  {
   "cell_type": "markdown",
   "metadata": {},
   "source": [
    "In this step, we should remove the columns that we don't need them."
   ]
  },
  {
   "cell_type": "code",
   "execution_count": null,
   "metadata": {},
   "outputs": [],
   "source": [
    "df = df.drop([])"
   ]
  },
  {
   "cell_type": "code",
   "execution_count": 6,
   "metadata": {},
   "outputs": [
    {
     "data": {
      "text/plain": [
       "Index(['id', 'name', 'host_id', 'host_name', 'neighbourhood_group',\n",
       "       'neighbourhood', 'latitude', 'longitude', 'room_type', 'price',\n",
       "       'minimum_nights', 'number_of_reviews', 'last_review',\n",
       "       'reviews_per_month', 'calculated_host_listings_count',\n",
       "       'availability_365'],\n",
       "      dtype='object')"
      ]
     },
     "execution_count": 6,
     "metadata": {},
     "output_type": "execute_result"
    }
   ],
   "source": [
    "df.columns"
   ]
  },
  {
   "cell_type": "markdown",
   "metadata": {},
   "source": [
    "### **Columns Typecasting**"
   ]
  },
  {
   "cell_type": "markdown",
   "metadata": {},
   "source": [
    "Here we should make sure about the data type of each column."
   ]
  },
  {
   "cell_type": "code",
   "execution_count": 50,
   "metadata": {},
   "outputs": [
    {
     "name": "stdout",
     "output_type": "stream",
     "text": [
      "Brand            object\n",
      "Model            object\n",
      "Year              int64\n",
      "EngineSize      float64\n",
      "Fuel             object\n",
      "Transmission     object\n",
      "Mileage           int64\n",
      "Doors             int64\n",
      "OwnerCount        int64\n",
      "Price             int64\n",
      "dtype: object\n"
     ]
    }
   ],
   "source": [
    "print(df.dtypes)"
   ]
  },
  {
   "cell_type": "markdown",
   "metadata": {},
   "source": [
    "There is no issue in terms of data type and they are showing correct format."
   ]
  },
  {
   "cell_type": "markdown",
   "metadata": {},
   "source": [
    "### **Handle Missing Values**"
   ]
  },
  {
   "cell_type": "markdown",
   "metadata": {},
   "source": [
    "We need to check for any missing values in the data. To do this, I will create a `for loop` to iterate through all the columns and determine whether they contain null values. I will calculate both the number of null values and the percentage of null values for each column."
   ]
  },
  {
   "cell_type": "code",
   "execution_count": 51,
   "metadata": {},
   "outputs": [
    {
     "name": "stdout",
     "output_type": "stream",
     "text": [
      "Brand - 0 - %0.0\n",
      "Model - 0 - %0.0\n",
      "Year - 0 - %0.0\n",
      "EngineSize - 0 - %0.0\n",
      "Fuel - 0 - %0.0\n",
      "Transmission - 0 - %0.0\n",
      "Mileage - 0 - %0.0\n",
      "Doors - 0 - %0.0\n",
      "OwnerCount - 0 - %0.0\n",
      "Price - 0 - %0.0\n"
     ]
    }
   ],
   "source": [
    "for col in df.columns:\n",
    "    number_null = df.loc[: , col].isnull().sum()\n",
    "    perc_null = (number_null / df.shape[0]) * 100\n",
    "    print('{} - {} - %{}'.format(col, number_null, round(perc_null,3)))"
   ]
  },
  {
   "cell_type": "markdown",
   "metadata": {},
   "source": [
    "The result shows, there is no any missing values in our data."
   ]
  },
  {
   "cell_type": "markdown",
   "metadata": {},
   "source": [
    "### **Handle Duplicate Rows**"
   ]
  },
  {
   "cell_type": "markdown",
   "metadata": {},
   "source": [
    "We need to handle duplicate rows. Since all values may be the same, we only need to check if there are two rows where all values in every column match."
   ]
  },
  {
   "cell_type": "code",
   "execution_count": 31,
   "metadata": {},
   "outputs": [
    {
     "name": "stdout",
     "output_type": "stream",
     "text": [
      "No Duplications.\n"
     ]
    }
   ],
   "source": [
    "duplicate_rows = df.duplicated()\n",
    "\n",
    "if duplicate_rows.any():\n",
    "    print(\"There is Duplicate.\")\n",
    "else:\n",
    "    print(\"No Duplications.\")"
   ]
  },
  {
   "cell_type": "markdown",
   "metadata": {},
   "source": [
    "### **Numerical Sanity Check**"
   ]
  },
  {
   "cell_type": "markdown",
   "metadata": {},
   "source": [
    "First of all, I declare all numerical variables. \n",
    "* Year\n",
    "* EngineSize\n",
    "* Mileage\t\n",
    "* Doors\t\n",
    "* OwnerCount\t\n",
    "* Price"
   ]
  },
  {
   "cell_type": "code",
   "execution_count": 52,
   "metadata": {},
   "outputs": [],
   "source": [
    "numeric_columns = df.select_dtypes(include=['int64', 'float64']).columns.tolist()"
   ]
  },
  {
   "cell_type": "markdown",
   "metadata": {},
   "source": [
    "The section on Columns Typecasting shows that these columns display numbers correctly. However, we should ensure that they contain data within a logical range."
   ]
  },
  {
   "cell_type": "code",
   "execution_count": 53,
   "metadata": {},
   "outputs": [
    {
     "data": {
      "text/html": [
       "<div>\n",
       "<style scoped>\n",
       "    .dataframe tbody tr th:only-of-type {\n",
       "        vertical-align: middle;\n",
       "    }\n",
       "\n",
       "    .dataframe tbody tr th {\n",
       "        vertical-align: top;\n",
       "    }\n",
       "\n",
       "    .dataframe thead th {\n",
       "        text-align: right;\n",
       "    }\n",
       "</style>\n",
       "<table border=\"1\" class=\"dataframe\">\n",
       "  <thead>\n",
       "    <tr style=\"text-align: right;\">\n",
       "      <th></th>\n",
       "      <th>Year</th>\n",
       "      <th>EngineSize</th>\n",
       "      <th>Mileage</th>\n",
       "      <th>Doors</th>\n",
       "      <th>OwnerCount</th>\n",
       "      <th>Price</th>\n",
       "    </tr>\n",
       "  </thead>\n",
       "  <tbody>\n",
       "    <tr>\n",
       "      <th>count</th>\n",
       "      <td>8000.000000</td>\n",
       "      <td>8000.000000</td>\n",
       "      <td>8000.000000</td>\n",
       "      <td>8000.000000</td>\n",
       "      <td>8000.000000</td>\n",
       "      <td>8000.000000</td>\n",
       "    </tr>\n",
       "    <tr>\n",
       "      <th>mean</th>\n",
       "      <td>2011.520375</td>\n",
       "      <td>2.996887</td>\n",
       "      <td>149477.003250</td>\n",
       "      <td>3.503625</td>\n",
       "      <td>2.991875</td>\n",
       "      <td>8828.745250</td>\n",
       "    </tr>\n",
       "    <tr>\n",
       "      <th>std</th>\n",
       "      <td>6.897792</td>\n",
       "      <td>1.153237</td>\n",
       "      <td>86613.284937</td>\n",
       "      <td>1.111482</td>\n",
       "      <td>1.420849</td>\n",
       "      <td>3132.164285</td>\n",
       "    </tr>\n",
       "    <tr>\n",
       "      <th>min</th>\n",
       "      <td>2000.000000</td>\n",
       "      <td>1.000000</td>\n",
       "      <td>25.000000</td>\n",
       "      <td>2.000000</td>\n",
       "      <td>1.000000</td>\n",
       "      <td>2000.000000</td>\n",
       "    </tr>\n",
       "    <tr>\n",
       "      <th>25%</th>\n",
       "      <td>2006.000000</td>\n",
       "      <td>2.000000</td>\n",
       "      <td>74192.250000</td>\n",
       "      <td>3.000000</td>\n",
       "      <td>2.000000</td>\n",
       "      <td>6604.750000</td>\n",
       "    </tr>\n",
       "    <tr>\n",
       "      <th>50%</th>\n",
       "      <td>2012.000000</td>\n",
       "      <td>3.000000</td>\n",
       "      <td>150069.500000</td>\n",
       "      <td>4.000000</td>\n",
       "      <td>3.000000</td>\n",
       "      <td>8829.000000</td>\n",
       "    </tr>\n",
       "    <tr>\n",
       "      <th>75%</th>\n",
       "      <td>2017.000000</td>\n",
       "      <td>4.000000</td>\n",
       "      <td>224292.750000</td>\n",
       "      <td>4.000000</td>\n",
       "      <td>4.000000</td>\n",
       "      <td>11071.000000</td>\n",
       "    </tr>\n",
       "    <tr>\n",
       "      <th>max</th>\n",
       "      <td>2023.000000</td>\n",
       "      <td>5.000000</td>\n",
       "      <td>299947.000000</td>\n",
       "      <td>5.000000</td>\n",
       "      <td>5.000000</td>\n",
       "      <td>18301.000000</td>\n",
       "    </tr>\n",
       "  </tbody>\n",
       "</table>\n",
       "</div>"
      ],
      "text/plain": [
       "              Year   EngineSize        Mileage        Doors   OwnerCount  \\\n",
       "count  8000.000000  8000.000000    8000.000000  8000.000000  8000.000000   \n",
       "mean   2011.520375     2.996887  149477.003250     3.503625     2.991875   \n",
       "std       6.897792     1.153237   86613.284937     1.111482     1.420849   \n",
       "min    2000.000000     1.000000      25.000000     2.000000     1.000000   \n",
       "25%    2006.000000     2.000000   74192.250000     3.000000     2.000000   \n",
       "50%    2012.000000     3.000000  150069.500000     4.000000     3.000000   \n",
       "75%    2017.000000     4.000000  224292.750000     4.000000     4.000000   \n",
       "max    2023.000000     5.000000  299947.000000     5.000000     5.000000   \n",
       "\n",
       "              Price  \n",
       "count   8000.000000  \n",
       "mean    8828.745250  \n",
       "std     3132.164285  \n",
       "min     2000.000000  \n",
       "25%     6604.750000  \n",
       "50%     8829.000000  \n",
       "75%    11071.000000  \n",
       "max    18301.000000  "
      ]
     },
     "execution_count": 53,
     "metadata": {},
     "output_type": "execute_result"
    }
   ],
   "source": [
    "df[numeric_columns].describe()"
   ]
  },
  {
   "cell_type": "markdown",
   "metadata": {},
   "source": [
    "The result shows all data are in correct and logical range."
   ]
  },
  {
   "cell_type": "markdown",
   "metadata": {},
   "source": [
    "### **Categorical Sanity Check**"
   ]
  },
  {
   "cell_type": "markdown",
   "metadata": {},
   "source": [
    "First of all, I declare all categorical variables. \n",
    "* Brand\n",
    "* Model\n",
    "* Fuel\t\n",
    "* Transmission\t"
   ]
  },
  {
   "cell_type": "code",
   "execution_count": 54,
   "metadata": {},
   "outputs": [],
   "source": [
    "cat_columns = df.select_dtypes(exclude=['int64', 'float64']).columns.tolist()"
   ]
  },
  {
   "cell_type": "markdown",
   "metadata": {},
   "source": [
    "Then, we must make sure about the possible categories for each of them"
   ]
  },
  {
   "cell_type": "code",
   "execution_count": 55,
   "metadata": {},
   "outputs": [],
   "source": [
    "def Cat_Checker(CatIndex):\n",
    "    values = np.sort(df[cat_columns[CatIndex]].unique())\n",
    "    return cat_columns[CatIndex] , values"
   ]
  },
  {
   "cell_type": "code",
   "execution_count": 56,
   "metadata": {},
   "outputs": [
    {
     "data": {
      "text/plain": [
       "('Brand',\n",
       " array(['Audi', 'BMW', 'Chevrolet', 'Ford', 'Honda', 'Hyundai', 'Kia',\n",
       "        'Mercedes', 'Toyota', 'Volkswagen'], dtype=object))"
      ]
     },
     "execution_count": 56,
     "metadata": {},
     "output_type": "execute_result"
    }
   ],
   "source": [
    "Cat_Checker(0)"
   ]
  },
  {
   "cell_type": "code",
   "execution_count": 57,
   "metadata": {},
   "outputs": [
    {
     "data": {
      "text/plain": [
       "('Model',\n",
       " array(['3 Series', '5 Series', 'A3', 'A4', 'Accord', 'C-Class', 'CR-V',\n",
       "        'Camry', 'Civic', 'Corolla', 'E-Class', 'Elantra', 'Equinox',\n",
       "        'Explorer', 'Fiesta', 'Focus', 'GLA', 'Golf', 'Impala', 'Malibu',\n",
       "        'Optima', 'Passat', 'Q5', 'RAV4', 'Rio', 'Sonata', 'Sportage',\n",
       "        'Tiguan', 'Tucson', 'X5'], dtype=object))"
      ]
     },
     "execution_count": 57,
     "metadata": {},
     "output_type": "execute_result"
    }
   ],
   "source": [
    "Cat_Checker(1)"
   ]
  },
  {
   "cell_type": "code",
   "execution_count": 58,
   "metadata": {},
   "outputs": [
    {
     "data": {
      "text/plain": [
       "('Fuel', array(['Diesel', 'Electric', 'Hybrid', 'Petrol'], dtype=object))"
      ]
     },
     "execution_count": 58,
     "metadata": {},
     "output_type": "execute_result"
    }
   ],
   "source": [
    "Cat_Checker(2)"
   ]
  },
  {
   "cell_type": "code",
   "execution_count": 59,
   "metadata": {},
   "outputs": [
    {
     "data": {
      "text/plain": [
       "('Transmission',\n",
       " array(['Automatic', 'Manual', 'Semi-Automatic'], dtype=object))"
      ]
     },
     "execution_count": 59,
     "metadata": {},
     "output_type": "execute_result"
    }
   ],
   "source": [
    "Cat_Checker(3)"
   ]
  },
  {
   "cell_type": "markdown",
   "metadata": {},
   "source": [
    "### **CHECKPOINT**"
   ]
  },
  {
   "cell_type": "code",
   "execution_count": 60,
   "metadata": {},
   "outputs": [
    {
     "name": "stdout",
     "output_type": "stream",
     "text": [
      "Stored 'X_test' (DataFrame)\n",
      "Stored 'y_test' (Series)\n",
      "Stored 'df' (DataFrame)\n",
      "Stored 'numeric_columns' (list)\n",
      "Stored 'cat_columns' (list)\n"
     ]
    }
   ],
   "source": [
    "%store X_test\n",
    "%store y_test\n",
    "%store df\n",
    "%store numeric_columns\n",
    "%store cat_columns"
   ]
  }
 ],
 "metadata": {
  "kernelspec": {
   "display_name": "base",
   "language": "python",
   "name": "python3"
  },
  "language_info": {
   "codemirror_mode": {
    "name": "ipython",
    "version": 3
   },
   "file_extension": ".py",
   "mimetype": "text/x-python",
   "name": "python",
   "nbconvert_exporter": "python",
   "pygments_lexer": "ipython3",
   "version": "3.12.7"
  }
 },
 "nbformat": 4,
 "nbformat_minor": 2
}
