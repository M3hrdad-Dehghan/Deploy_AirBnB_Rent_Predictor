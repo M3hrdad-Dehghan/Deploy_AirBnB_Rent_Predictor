{
 "cells": [
  {
   "cell_type": "markdown",
   "metadata": {},
   "source": [
    "### **Libraries**"
   ]
  },
  {
   "cell_type": "code",
   "execution_count": 18,
   "metadata": {},
   "outputs": [],
   "source": [
    "import warnings\n",
    "warnings.filterwarnings('ignore')\n",
    "import pandas as pd\n",
    "import matplotlib.pyplot as plt\n",
    "import seaborn as sns\n",
    "from sklearn.preprocessing import OneHotEncoder\n",
    "import joblib\n",
    "from scipy.stats import yeojohnson\n",
    "from sklearn.preprocessing import PowerTransformer\n",
    "import numpy as np"
   ]
  },
  {
   "cell_type": "markdown",
   "metadata": {},
   "source": [
    "First, we should call some variables from data cleaning process."
   ]
  },
  {
   "cell_type": "code",
   "execution_count": 19,
   "metadata": {},
   "outputs": [],
   "source": [
    "%store -r df\n",
    "df = df\n",
    "\n",
    "%store -r numeric_columns\n",
    "numeric_columns = numeric_columns\n",
    "\n",
    "%store -r cat_columns\n",
    "cat_columns = cat_columns   "
   ]
  },
  {
   "cell_type": "code",
   "execution_count": 20,
   "metadata": {},
   "outputs": [
    {
     "name": "stdout",
     "output_type": "stream",
     "text": [
      "<class 'pandas.core.frame.DataFrame'>\n",
      "Index: 27045 entries, 0 to 27378\n",
      "Data columns (total 10 columns):\n",
      " #   Column             Non-Null Count  Dtype  \n",
      "---  ------             --------------  -----  \n",
      " 0   Location           27045 non-null  object \n",
      " 1   Area               27045 non-null  object \n",
      " 2   Type               27045 non-null  object \n",
      " 3   Price              27045 non-null  int64  \n",
      " 4   MinDayNights       27045 non-null  int64  \n",
      " 5   CountReview        27045 non-null  int64  \n",
      " 6   LastDateReview     27045 non-null  object \n",
      " 7   AvgReview          27045 non-null  float64\n",
      " 8   TotalHostListings  27045 non-null  int64  \n",
      " 9   DayAvailability    27045 non-null  int64  \n",
      "dtypes: float64(1), int64(5), object(4)\n",
      "memory usage: 2.3+ MB\n"
     ]
    }
   ],
   "source": [
    "df.info()"
   ]
  },
  {
   "cell_type": "markdown",
   "metadata": {},
   "source": [
    "### **Feature Engineeringr**"
   ]
  },
  {
   "cell_type": "markdown",
   "metadata": {},
   "source": [
    "In this step, we should extract year, month and day from date column."
   ]
  },
  {
   "cell_type": "code",
   "execution_count": null,
   "metadata": {},
   "outputs": [
    {
     "data": {
      "text/plain": [
       "['../../artifacts/year_extraction.pkl']"
      ]
     },
     "execution_count": 21,
     "metadata": {},
     "output_type": "execute_result"
    }
   ],
   "source": [
    "# Function to extract Year, Month, and Day from 'LastDateReview'\n",
    "def extract_year_month_day(X):\n",
    "    X = X.copy()\n",
    "    X['LastDateReview'] = pd.to_datetime(X['LastDateReview'])\n",
    "    X['Year'] = X['LastDateReview'].dt.year\n",
    "    X['Month'] = X['LastDateReview'].dt.month\n",
    "    X['Day'] = X['LastDateReview'].dt.day\n",
    "    X.drop(columns=['LastDateReview'], inplace=True)\n",
    "    return X\n",
    "\n",
    "# Apply the transformation\n",
    "df = extract_year_month_day(df)\n"
   ]
  },
  {
   "cell_type": "markdown",
   "metadata": {},
   "source": [
    "### **Handle Outlier**"
   ]
  },
  {
   "cell_type": "markdown",
   "metadata": {},
   "source": [
    "In this step, we will check for outliers for features. Since our evaluation metric is `RMSE`, which is sensitive to large errors, outliers can significantly inflate the error measurement."
   ]
  },
  {
   "cell_type": "markdown",
   "metadata": {},
   "source": [
    "#### **Outlier Detection**"
   ]
  },
  {
   "cell_type": "markdown",
   "metadata": {},
   "source": [
    "First, let's see the box plot to see the status of data"
   ]
  },
  {
   "cell_type": "code",
   "execution_count": 22,
   "metadata": {},
   "outputs": [
    {
     "data": {
      "image/png": "[encoded data removed]",
      "text/plain": [
       "<Figure size 1200x200 with 1 Axes>"
      ]
     },
     "metadata": {},
     "output_type": "display_data"
    }
   ],
   "source": [
    "plt.figure(figsize = (12, 2))\n",
    "sns.boxplot(x = df['Price'])\n",
    "plt.title('Box Plot of Price')\n",
    "plt.show()"
   ]
  },
  {
   "cell_type": "code",
   "execution_count": 23,
   "metadata": {},
   "outputs": [
    {
     "name": "stdout",
     "output_type": "stream",
     "text": [
      "25% of data is less than or equal 69.0\n",
      "50% of data is less than and 50% is more than 106.0\n",
      "75% of data is less than 175.0\n"
     ]
    }
   ],
   "source": [
    "print('25% of data is less than or equal' , df['Price'].quantile(0.25))\n",
    "print('50% of data is less than and 50% is more than' , df['Price'].quantile(0.50))\n",
    "print('75% of data is less than' , df['Price'].quantile(0.75))"
   ]
  },
  {
   "cell_type": "markdown",
   "metadata": {},
   "source": [
    "#### **Handle Outlier**"
   ]
  },
  {
   "cell_type": "markdown",
   "metadata": {},
   "source": [
    "`Removing Outliers`: When outliers are error / Dataset is very large\n",
    "* IQR-based Removal\n",
    "* Z-Score-based Removal\n",
    "* Manual Removal\n",
    "* Model-Based Removal\n",
    "\n",
    "`Transforming Outliers`: When data is highly skewed / Outlier is not error\n",
    "* Log Transformation\n",
    "* Box-Cox Transformation\n",
    "* Yeo-Johnson Transformation\n",
    "\n",
    "`Capping (Winsorization)`: When just a few values are far from most of them / Outlier is not error\n",
    "* Percentile-Based Capping\n",
    "* IQR-Based Capping\n"
   ]
  },
  {
   "cell_type": "code",
   "execution_count": 24,
   "metadata": {},
   "outputs": [],
   "source": [
    "def transform_distribution(df, column):\n",
    "    column_name = column\n",
    "\n",
    "    # Apply transformations\n",
    "    log_transformed = np.log1p(df[column_name])  # log(1 + x), avoids log(0) issue\n",
    "    sqrt_transformed = np.sqrt(df[column_name])\n",
    "    yeo_transformed, _ = yeojohnson(df[column_name])\n",
    "\n",
    "    # Check skewness\n",
    "    original_skew = df[column_name].skew()\n",
    "    log_skew = log_transformed.skew()\n",
    "    sqrt_skew = sqrt_transformed.skew()\n",
    "    yeo_skew = pd.Series(yeo_transformed).skew()\n",
    "\n",
    "    print(f\"Original Skewness: {original_skew:.4f}\")\n",
    "    print(f\"Log Transformed Skewness: {log_skew:.4f}\")\n",
    "    print(f\"Square Root Transformed Skewness: {sqrt_skew:.4f}\")\n",
    "    print(f\"Yeo-Johnson Transformed Skewness: {yeo_skew:.4f}\")"
   ]
  },
  {
   "cell_type": "code",
   "execution_count": 25,
   "metadata": {},
   "outputs": [
    {
     "name": "stdout",
     "output_type": "stream",
     "text": [
      "Original Skewness: 16.4984\n",
      "Log Transformed Skewness: 0.5118\n",
      "Square Root Transformed Skewness: 3.6400\n",
      "Yeo-Johnson Transformed Skewness: -0.0763\n"
     ]
    }
   ],
   "source": [
    "transform_distribution(df , 'Price')"
   ]
  },
  {
   "cell_type": "markdown",
   "metadata": {},
   "source": [
    "The result shows `Yeo-Johnson` works better."
   ]
  },
  {
   "cell_type": "code",
   "execution_count": 26,
   "metadata": {},
   "outputs": [
    {
     "data": {
      "image/png": "[encoded data removed]",
      "text/plain": [
       "<Figure size 1200x200 with 1 Axes>"
      ]
     },
     "metadata": {},
     "output_type": "display_data"
    }
   ],
   "source": [
    "# Initialize transformer\n",
    "yeo_transformer = PowerTransformer(method='yeo-johnson')\n",
    "\n",
    "# Fit and transform the training price column\n",
    "df['Price'] = yeo_transformer.fit_transform(df[['Price']])\n",
    "\n",
    "# Save the transformer for later use\n",
    "joblib.dump(yeo_transformer, '../../artifacts/Price_yeo_johnson_transformer.pkl')\n",
    "\n",
    "# Plot transformed price\n",
    "plt.figure(figsize=(12, 2))\n",
    "sns.boxplot(x=df['Price'])\n",
    "plt.title('Box Plot of Transformed Price')\n",
    "plt.show()"
   ]
  },
  {
   "cell_type": "markdown",
   "metadata": {},
   "source": [
    "### **Transform Numerical**"
   ]
  },
  {
   "cell_type": "markdown",
   "metadata": {},
   "source": [
    "In section data understaing and descriptive analysis, we saw that some of them numerical columns need transformation. We build a function and apply Log and Sqrt Transforation to see which of them works better."
   ]
  },
  {
   "cell_type": "code",
   "execution_count": 27,
   "metadata": {},
   "outputs": [
    {
     "name": "stdout",
     "output_type": "stream",
     "text": [
      "Original Skewness: 20.5742\n",
      "Log Transformed Skewness: 1.4820\n",
      "Square Root Transformed Skewness: 3.8573\n",
      "Yeo-Johnson Transformed Skewness: 0.2651\n"
     ]
    }
   ],
   "source": [
    "#MinDayNights\n",
    "transform_distribution(df , numeric_columns[1])"
   ]
  },
  {
   "cell_type": "markdown",
   "metadata": {},
   "source": [
    "The result shows Yeo-Johnson works better.\n",
    "<hr>"
   ]
  },
  {
   "cell_type": "code",
   "execution_count": 28,
   "metadata": {},
   "outputs": [
    {
     "name": "stdout",
     "output_type": "stream",
     "text": [
      "Original Skewness: 3.5932\n",
      "Log Transformed Skewness: 0.3472\n",
      "Square Root Transformed Skewness: 1.4710\n",
      "Yeo-Johnson Transformed Skewness: 0.0767\n"
     ]
    }
   ],
   "source": [
    "#CountReview\n",
    "transform_distribution(df , numeric_columns[2])"
   ]
  },
  {
   "cell_type": "markdown",
   "metadata": {},
   "source": [
    "The result shows Yeo-Johnson works better.\n",
    "<hr>"
   ]
  },
  {
   "cell_type": "code",
   "execution_count": 29,
   "metadata": {},
   "outputs": [
    {
     "name": "stdout",
     "output_type": "stream",
     "text": [
      "Original Skewness: 4.2364\n",
      "Log Transformed Skewness: 0.5778\n",
      "Square Root Transformed Skewness: 0.7038\n",
      "Yeo-Johnson Transformed Skewness: 0.0796\n"
     ]
    }
   ],
   "source": [
    "#AvgReview\n",
    "transform_distribution(df , numeric_columns[3])"
   ]
  },
  {
   "cell_type": "markdown",
   "metadata": {},
   "source": [
    "The result shows Yeo-Johnson works better.\n",
    "<hr>"
   ]
  },
  {
   "cell_type": "code",
   "execution_count": 30,
   "metadata": {},
   "outputs": [
    {
     "name": "stdout",
     "output_type": "stream",
     "text": [
      "Original Skewness: 7.8999\n",
      "Log Transformed Skewness: 3.2953\n",
      "Square Root Transformed Skewness: 5.5235\n",
      "Yeo-Johnson Transformed Skewness: 0.9678\n"
     ]
    }
   ],
   "source": [
    "#TotalHostListings\n",
    "transform_distribution(df , numeric_columns[4])"
   ]
  },
  {
   "cell_type": "markdown",
   "metadata": {},
   "source": [
    "The result shows Yeo-Johnson works better.\n",
    "<hr>"
   ]
  },
  {
   "cell_type": "code",
   "execution_count": 31,
   "metadata": {},
   "outputs": [
    {
     "name": "stdout",
     "output_type": "stream",
     "text": [
      "Original Skewness: 0.7477\n",
      "Log Transformed Skewness: -0.2235\n",
      "Square Root Transformed Skewness: 0.2572\n",
      "Yeo-Johnson Transformed Skewness: -0.1328\n"
     ]
    }
   ],
   "source": [
    "#DayAvailability\n",
    "transform_distribution(df , numeric_columns[5])"
   ]
  },
  {
   "cell_type": "markdown",
   "metadata": {},
   "source": [
    "The result shows Yeo-Johnson works better.\n",
    "<hr>"
   ]
  },
  {
   "cell_type": "markdown",
   "metadata": {},
   "source": [
    "Since, for all, Yeo-Johnson is the best transformer, we apply it for all those features."
   ]
  },
  {
   "cell_type": "code",
   "execution_count": 32,
   "metadata": {},
   "outputs": [
    {
     "data": {
      "text/plain": [
       "['../../artifacts/Numerical_Transformer.pkl']"
      ]
     },
     "execution_count": 32,
     "metadata": {},
     "output_type": "execute_result"
    }
   ],
   "source": [
    "# Fit on train data\n",
    "pt = PowerTransformer(method='yeo-johnson')\n",
    "columns_to_transform = ['MinDayNights', 'CountReview', 'AvgReview', 'TotalHostListings', 'DayAvailability']\n",
    "\n",
    "df[columns_to_transform] = pt.fit_transform(df[columns_to_transform])\n",
    "\n",
    "# Save the transformer\n",
    "joblib.dump(pt, '../../artifacts/Numerical_Transformer.pkl')"
   ]
  },
  {
   "cell_type": "markdown",
   "metadata": {},
   "source": [
    "### **Categorical Encoding**"
   ]
  },
  {
   "cell_type": "markdown",
   "metadata": {},
   "source": [
    "#### **Mean-Target Encoding**"
   ]
  },
  {
   "cell_type": "markdown",
   "metadata": {},
   "source": [
    "Since `Area` have many unique values (high cardinality), we use Mean Target encoding for it. the process is:\n",
    "* Calculate the Mean Target (Price) for Each City in Training Data\n",
    "* Replace City in the Training Set with its Corresponding Mean Price\n",
    "* Apply the Same Mapping to the Test Set (Using only training means)\n",
    "* Handle New Cities in the Test Set (Cities not seen in training)"
   ]
  },
  {
   "cell_type": "code",
   "execution_count": 33,
   "metadata": {},
   "outputs": [
    {
     "data": {
      "text/plain": [
       "['../../artifacts/Area_Encoder.pkl']"
      ]
     },
     "execution_count": 33,
     "metadata": {},
     "output_type": "execute_result"
    }
   ],
   "source": [
    "Area_Encoder = df.groupby('Area')['Price'].mean()\n",
    "\n",
    "# Apply encoding to training data\n",
    "df['Area'] = df['Area'].map(Area_Encoder)\n",
    "\n",
    "# Save the mean encoding mapping\n",
    "joblib.dump(Area_Encoder, '../../artifacts/Area_Encoder.pkl')"
   ]
  },
  {
   "cell_type": "markdown",
   "metadata": {},
   "source": [
    "#### **One-Hot Encoding**"
   ]
  },
  {
   "cell_type": "markdown",
   "metadata": {},
   "source": [
    "Now, for `Location` and `Type`, just because they don't have too many cardinality, we can use one-hot encoding."
   ]
  },
  {
   "cell_type": "code",
   "execution_count": 34,
   "metadata": {},
   "outputs": [
    {
     "data": {
      "text/plain": [
       "['../../artifacts/OneHot_Encoder.pkl']"
      ]
     },
     "execution_count": 34,
     "metadata": {},
     "output_type": "execute_result"
    }
   ],
   "source": [
    "# Select categorical columns to encode\n",
    "categorical_cols = ['Location' , 'Type']\n",
    "\n",
    "# Define OneHotEncoder\n",
    "encoder = OneHotEncoder(drop='first', sparse_output=False, handle_unknown='ignore')\n",
    "\n",
    "# Fit and transform only selected categorical columns\n",
    "encoded_array = encoder.fit_transform(df[categorical_cols])\n",
    "\n",
    "# Convert to DataFrame\n",
    "encoded_df = pd.DataFrame(encoded_array, columns=encoder.get_feature_names_out(categorical_cols))\n",
    "\n",
    "# Drop original categorical columns and merge encoded ones\n",
    "df_encoded = df.drop(columns=categorical_cols).reset_index(drop=True)\n",
    "df = pd.concat([df_encoded, encoded_df], axis=1)\n",
    "\n",
    "joblib.dump(encoder, '../../artifacts/OneHot_Encoder.pkl')"
   ]
  },
  {
   "cell_type": "markdown",
   "metadata": {},
   "source": [
    "#### **Encoding Date**"
   ]
  },
  {
   "cell_type": "markdown",
   "metadata": {},
   "source": [
    "* For `Year`: We don't encode it and later we just scale it.\n",
    "* For `Month` and `Day`: We use cyclic encoding (also known as circular encoding or sine-cosine encoding)"
   ]
  },
  {
   "cell_type": "code",
   "execution_count": null,
   "metadata": {},
   "outputs": [
    {
     "data": {
      "text/plain": [
       "['../../artifacts/DayMonth_Encoder.pkl']"
      ]
     },
     "execution_count": 35,
     "metadata": {},
     "output_type": "execute_result"
    }
   ],
   "source": [
    "def encode(data, col, max_val):\n",
    "    data[col + '_sin'] = np.sin(2 * np.pi * data[col] / max_val)\n",
    "    data[col + '_cos'] = np.cos(2 * np.pi * data[col] / max_val)\n",
    "    return data\n",
    "\n",
    "# Apply encoding to training data\n",
    "df = encode(df, 'Month', 12)\n",
    "df = encode(df, 'Day', 31)\n",
    "\n",
    "# Drop original columns\n",
    "df = df.drop(columns=['Month', 'Day'])"
   ]
  },
  {
   "cell_type": "markdown",
   "metadata": {},
   "source": [
    "### **CHECKPOINT**"
   ]
  },
  {
   "cell_type": "code",
   "execution_count": 36,
   "metadata": {},
   "outputs": [
    {
     "name": "stdout",
     "output_type": "stream",
     "text": [
      "Stored 'df' (DataFrame)\n"
     ]
    }
   ],
   "source": [
    "%store df"
   ]
  },
  {
   "cell_type": "code",
   "execution_count": null,
   "metadata": {},
   "outputs": [],
   "source": []
  }
 ],
 "metadata": {
  "kernelspec": {
   "display_name": "base",
   "language": "python",
   "name": "python3"
  },
  "language_info": {
   "codemirror_mode": {
    "name": "ipython",
    "version": 3
   },
   "file_extension": ".py",
   "mimetype": "text/x-python",
   "name": "python",
   "nbconvert_exporter": "python",
   "pygments_lexer": "ipython3",
   "version": "3.12.7"
  }
 },
 "nbformat": 4,
 "nbformat_minor": 2
}
